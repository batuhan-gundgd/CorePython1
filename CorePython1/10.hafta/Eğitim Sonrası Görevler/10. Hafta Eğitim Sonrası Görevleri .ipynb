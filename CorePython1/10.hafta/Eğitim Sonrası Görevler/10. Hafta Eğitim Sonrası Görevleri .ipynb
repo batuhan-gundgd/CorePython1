{
 "cells": [
  {
   "attachments": {},
   "cell_type": "markdown",
   "metadata": {},
   "source": [
    "# Problem 1 "
   ]
  },
  {
   "cell_type": "code",
   "execution_count": 1,
   "metadata": {},
   "outputs": [
    {
     "name": "stdout",
     "output_type": "stream",
     "text": [
      "[ 1  2  7  9 23]\n"
     ]
    }
   ],
   "source": [
    "# 1 - numpy kütüphanesini import edin\n",
    "import numpy as np\n",
    "\n",
    "# 2 - 5 elemanlı bir numpy array oluşturun\n",
    "array = np.array([7, 2, 23, 1, 9])\n",
    "\n",
    "# 3 - Oluşturduğunuz arrayi küçükten büyüğe sıralayın.\n",
    "sıralı_array = np.sort(array)\n",
    "print(sıralı_array)\n"
   ]
  },
  {
   "attachments": {},
   "cell_type": "markdown",
   "metadata": {},
   "source": [
    "# Problem 2"
   ]
  },
  {
   "cell_type": "code",
   "execution_count": 12,
   "metadata": {},
   "outputs": [
    {
     "name": "stdout",
     "output_type": "stream",
     "text": [
      "A : [10 15 30 45 60]\n",
      "B : [ 5  6  7  8  9 10 11 12 13 14 15]\n",
      "C : [ 50  55  60  65  70  75  80  85  90  95 100]\n",
      "D : [0. 0. 0. 0. 0. 0. 0. 0. 0. 0.]\n",
      "E : [1. 1. 1. 1. 1. 1. 1. 1. 1. 1.]\n",
      "F : [  0.  25.  50.  75. 100.]\n",
      "G : [18 14 20 20 20]\n",
      "H :\n",
      " [-0.71614168  0.58089589  0.15091102 -0.37463085 -0.32777254 -0.45044637\n",
      "  0.8679944  -0.1285807  -0.99129565 -0.02104746]\n",
      "I :\n",
      " [[34 41 28 21 50]\n",
      " [39 43 45 11 28]\n",
      " [40 40 16 28 38]]\n",
      "10-\n",
      "Satır ve sütun sayıları toplamı: 8\n",
      "11-\n",
      "En büyük değer: 50\n",
      "En küçük değer: 11\n",
      "Ortalama değer: 33.46666666666667\n",
      "12-\n",
      "En büyük değerinin indeksi: 4\n",
      "13-\n",
      "İlk 3 eleman: [10 11 12]\n",
      "14-\n",
      "Tersten dizinin elemanları: [20 19 18 17 16 15 14 13 12 11 10]\n",
      "15-\n",
      "İlk satır: [34 41 28 21 50]\n",
      "16-\n",
      "2. satır 3. sütun elemanı: 45\n",
      "17-\n",
      "Her satırın ilk elemanı: [34 39 40]\n",
      "18-\n",
      "Elemanların karesi:\n",
      " [[1156 1681  784  441 2500]\n",
      " [1521 1849 2025  121  784]\n",
      " [1600 1600  256  784 1444]]\n",
      "19-\n",
      "Pozitif çift sayılar:\n",
      " [44 20 36 26 28]\n"
     ]
    }
   ],
   "source": [
    "# 1- (10,15,30,45,60) değerlerine sahip numpy dizisi oluşturunuz.\n",
    "arrayA = np.array([10, 15, 30, 45, 60])\n",
    "print(\"A :\", arrayA)\n",
    "\n",
    "# 2- (5-15) arasındaki sayılarla numpy dizisi oluşturunuz.\n",
    "arrayB = np.arange(5, 16)\n",
    "print(\"B :\", arrayB)\n",
    "# 3- (50-100) arasında 5'er 5'er artarak numpy dizisi oluşturunuz.\n",
    "arrayC = np.arange(50, 101, 5)\n",
    "print(\"C :\", arrayC)\n",
    "\n",
    "# 4- 10 elemanlı sıfırlardan oluşan bir dizi oluşturunuz.\n",
    "arrayD = np.zeros(10)\n",
    "print(\"D :\", arrayD)\n",
    "\n",
    "# 5- 10 elemanlı birlerden oluşan bir dizi oluşturunuz.\n",
    "arrayE = np.ones(10)\n",
    "print(\"E :\", arrayE)\n",
    "\n",
    "# 6- (0-100) arasında eşit aralıklı 5 sayı üretin.\n",
    "arrayF = np.linspace(0, 100, 5)\n",
    "print(\"F :\", arrayF)\n",
    "\n",
    "# 7- (10-30) arasında rastgele 5 tane tamsayı üretin.\n",
    "arrayG = np.random.randint(10, 31, size=5)\n",
    "print(\"G :\", arrayG)\n",
    "\n",
    "# 8- [-1 ile 1] arasında 10 adet sayı üretin.\n",
    "arrayH = np.random.uniform(-1, 1, 10)\n",
    "print(\"H :\\n\", arrayH)\n",
    "\n",
    "# 9- (3x5) boyutlarında (10-50) arasında rastgele bir matris oluşturunuz.\n",
    "matrixI = np.random.randint(10, 51, size=(3, 5))\n",
    "print(\"I :\\n\", matrixI)\n",
    "\n",
    "# 10- Üretilen matrisin satır ve sütun sayıları toplamlarını hesaplayınız ?\n",
    "print(\"10-\")\n",
    "satir, sütun = matrixI.shape\n",
    "sum = satir + sütun\n",
    "print(\"Satır ve sütun sayıları toplamı:\", sum)\n",
    "\n",
    "# 11- Üretilen matrisin en büyük, en küçük ve ortalaması nedir ?\n",
    "print(\"11-\")\n",
    "max_value = np.max(matrixI)\n",
    "min_value = np.min(matrixI)\n",
    "mean_value = np.mean(matrixI)\n",
    "print(\"En büyük değer:\", max_value)\n",
    "print(\"En küçük değer:\", min_value)\n",
    "print(\"Ortalama değer:\", mean_value)\n",
    "\n",
    "# 12- Üretilen matrisin en büyük değerinin indeksi kaçtır ?\n",
    "print(\"12-\")\n",
    "max_indeks = np.argmax(matrixI)\n",
    "print(\"En büyük değerinin indeksi:\", max_indeks)\n",
    "\n",
    "# 13- (10-20) arasındaki sayıları içeren dizinin ilk 3 elemanını seçiniz.\n",
    "print(\"13-\")\n",
    "arrayJ = np.arange(10, 21)\n",
    "uc_eleman = arrayJ[:3]\n",
    "print(\"İlk 3 eleman:\", uc_eleman)\n",
    "\n",
    "# 14- Üretilen dizinin elemanlarını tersten yazdırın.\n",
    "print(\"14-\")\n",
    "ters_arrayJ = arrayJ[::-1]\n",
    "print(\"Tersten dizinin elemanları:\", ters_arrayJ)\n",
    "\n",
    "# 15- Üretilen matrisin ilk satırını seçiniz.\n",
    "print(\"15-\")\n",
    "ilk_satir = matrixI[0]\n",
    "print(\"İlk satır:\", ilk_satir)\n",
    "\n",
    "# 16- Üretilen matrisin 2.satır 3.sütundaki elemanı hangisidir ?\n",
    "print(\"16-\")\n",
    "eleman_2_3 = matrixI[1,2]\n",
    "print(\"2. satır 3. sütun elemanı:\", eleman_2_3)\n",
    "\n",
    "# 17- Üretilen matrisin tüm satırlardaki ilk elemanı seçiniz.\n",
    "print(\"17-\")\n",
    "ilk_eleman = matrixI[:, 0]\n",
    "print(\"Her satırın ilk elemanı:\", ilk_eleman)\n",
    "\n",
    "# 18- Üretilen matrisin her bir elemanının karesini alınız.\n",
    "print(\"18-\")\n",
    "kare_matrix = np.square(matrixI)\n",
    "print(\"Elemanların karesi:\\n\", kare_matrix)\n",
    "\n",
    "# 19- Üretilen matris elemanlarının hangisi pozitif çift sayıdır ? Aralığı (-50,+50) arasında yapınız.\n",
    "print(\"19-\")\n",
    "matrix_son = np.random.randint(-50, 51, size=(3, 5))\n",
    "cift_ve_pozitif = matrix_son[(matrix_son % 2 == 0) & (matrix_son > 0)]\n",
    "print(\"Pozitif çift sayılar:\\n\", cift_ve_pozitif)\n"
   ]
  }
 ],
 "metadata": {
  "kernelspec": {
   "display_name": "Python 3",
   "language": "python",
   "name": "python3"
  },
  "language_info": {
   "codemirror_mode": {
    "name": "ipython",
    "version": 3
   },
   "file_extension": ".py",
   "mimetype": "text/x-python",
   "name": "python",
   "nbconvert_exporter": "python",
   "pygments_lexer": "ipython3",
   "version": "3.10.0"
  },
  "orig_nbformat": 4,
  "vscode": {
   "interpreter": {
    "hash": "5026d2d6e7aaaaba093def813beadff083d8733e4a511af01735cbabd156995d"
   }
  }
 },
 "nbformat": 4,
 "nbformat_minor": 2
}
