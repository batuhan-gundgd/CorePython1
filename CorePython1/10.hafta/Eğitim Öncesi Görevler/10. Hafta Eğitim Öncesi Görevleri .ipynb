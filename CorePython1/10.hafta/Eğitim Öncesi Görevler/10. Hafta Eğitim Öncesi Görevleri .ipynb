{
 "cells": [
  {
   "attachments": {},
   "cell_type": "markdown",
   "metadata": {},
   "source": [
    "# Problem 1"
   ]
  },
  {
   "cell_type": "code",
   "execution_count": 5,
   "metadata": {},
   "outputs": [
    {
     "name": "stdout",
     "output_type": "stream",
     "text": [
      "Matris boyutu: (1, 5)\n",
      "Orijinal Matris:\n",
      " [[ 0.   2.5  5.   7.5 10. ]]\n",
      "Yeniden Boyutlandırılmış Matris:\n",
      " [[ 0. ]\n",
      " [ 2.5]\n",
      " [ 5. ]\n",
      " [ 7.5]\n",
      " [10. ]]\n"
     ]
    }
   ],
   "source": [
    "# 1 - numpy kütüphanesini import edin\n",
    "import numpy as np \n",
    "\n",
    "# 2 - 0 ile 10 arasında 5 sayıdan oluşan matris üretin\n",
    "matrixA = np.linspace(0, 10, 5)\n",
    "matrixB = matrixA.reshape(1, 5)\n",
    "\n",
    "# 3 - matris'in boyutunu öğrenin\n",
    "print(\"Matris boyutu:\", matrixB.shape)\n",
    "\n",
    "# 4 - matris'i yeniden boyutlandırın\n",
    "yeni_matrix = matrixB.reshape(5,1 )\n",
    "\n",
    "# 5 - matris'in boyut sayısını öğrenin\n",
    "print(\"Orijinal Matris:\\n\", matrixB)\n",
    "print(\"Yeniden Boyutlandırılmış Matris:\\n\", yeni_matrix)\n"
   ]
  },
  {
   "attachments": {},
   "cell_type": "markdown",
   "metadata": {},
   "source": [
    "# Problem 2"
   ]
  },
  {
   "cell_type": "code",
   "execution_count": 18,
   "metadata": {},
   "outputs": [
    {
     "name": "stdout",
     "output_type": "stream",
     "text": [
      "[array([[1]]), array([[3]]), array([[5]]), array([[7]]), array([[9]])]\n",
      "[[1]\n",
      " [3]\n",
      " [5]\n",
      " [7]\n",
      " [9]]\n"
     ]
    }
   ],
   "source": [
    "# 1 - 0 ile 10 arasında bulunan tek sayılardan oluşan matris üretin\n",
    "matris = np.arange(1, 10, 2)\n",
    "\n",
    "# 2 - Oluşturduğunuz matrisi parçalayın\n",
    "matrix = matris.reshape(5, 1)\n",
    "matris_böl = np.split(matrix, 5)\n",
    "print(matris_böl)\n",
    "\n",
    "# 3 - Parçalanmış matrisleri birleştirin\n",
    "matris_birlestir = np.concatenate(matris_böl, axis=0)\n",
    "print(matris_birlestir)"
   ]
  },
  {
   "attachments": {},
   "cell_type": "markdown",
   "metadata": {},
   "source": [
    "# Problem 3"
   ]
  },
  {
   "cell_type": "code",
   "execution_count": 19,
   "metadata": {},
   "outputs": [
    {
     "name": "stdout",
     "output_type": "stream",
     "text": [
      "Matris:\n",
      " [[65 41 89 39 79]\n",
      " [59 43 19 71 31]]\n",
      "Matris Boyut Sayısı-ndim: 2\n",
      "Matris Şekli-shape: (2, 5)\n",
      "Matris Eleman Sayısı-size: 10\n",
      "Matris Veri Tipi-dtype: int32\n",
      "Matris Ortalaması-mean: 53.6\n",
      "Matris Toplamı-sum: 536\n"
     ]
    }
   ],
   "source": [
    "# 1 - 5 ile 100 arasında ikişer ikişer atlayarak rastgele 10 sayıdan oluşan matris üretin\n",
    "sayılar = np.arange(5, 101, 2)\n",
    "matris = np.random.choice(sayılar, size=10, replace=False)\n",
    "matrix = matris.reshape(2, 5)\n",
    "\n",
    "# 2 - matris'in özelliklerini inceleyin\n",
    "print(\"Matris:\\n\", matrix)\n",
    "print(\"Matris Boyut Sayısı-ndim:\", matrix.ndim)\n",
    "print(\"Matris Şekli-shape:\", matrix.shape)\n",
    "print(\"Matris Eleman Sayısı-size:\", matrix.size)\n",
    "print(\"Matris Veri Tipi-dtype:\", matrix.dtype)\n",
    "print(\"Matris Ortalama-mean:\", matrix.mean())\n",
    "print(\"Matris Toplam-sum:\", matrix.sum())\n"
   ]
  }
 ],
 "metadata": {
  "kernelspec": {
   "display_name": "Python 3",
   "language": "python",
   "name": "python3"
  },
  "language_info": {
   "codemirror_mode": {
    "name": "ipython",
    "version": 3
   },
   "file_extension": ".py",
   "mimetype": "text/x-python",
   "name": "python",
   "nbconvert_exporter": "python",
   "pygments_lexer": "ipython3",
   "version": "3.10.0"
  },
  "orig_nbformat": 4,
  "vscode": {
   "interpreter": {
    "hash": "5026d2d6e7aaaaba093def813beadff083d8733e4a511af01735cbabd156995d"
   }
  }
 },
 "nbformat": 4,
 "nbformat_minor": 2
}
