{
 "cells": [
  {
   "cell_type": "markdown",
   "metadata": {},
   "source": [
    "# Problem 1\n",
    "`ogrenciler` adında bir sözlük oluşturunuz. Kullanıcıdan döngü yardımıyla 3 öğrenci için veri girmesini isteyerek öğrencilerin sırasıyla okul numarası, isim, soy isim, telefon numarası ve doğum tarihi bilgilerini alınız. Aldığınız öğrenci bilgilerini yine aynı döngü yardımıyla `ogrenciler` adındaki sözlükte saklayınız. Daha sonra öğrenci bilgilerinin bulunduğu sözlük yapısını ekrana bastırınız.\n",
    "\n"
   ]
  },
  {
   "cell_type": "code",
   "execution_count": 39,
   "metadata": {},
   "outputs": [
    {
     "name": "stdout",
     "output_type": "stream",
     "text": [
      "1. Ogrenci\n",
      "\n",
      "2. Ogrenci\n",
      "\n",
      "Oluşturulan Öğrenci Bilgileri:\n",
      "Öğrenci 1:\n",
      "Okul Numarası: 1\n",
      "İsim: 2\n",
      "Soyisim: 2\n",
      "Telefon Numarası: 2\n",
      "Doğum Tarihi: 2\n",
      "\n",
      "Öğrenci 2:\n",
      "Okul Numarası: 3\n",
      "İsim: 3\n",
      "Soyisim: 3\n",
      "Telefon Numarası: 3\n",
      "Doğum Tarihi: 3\n",
      "\n"
     ]
    }
   ],
   "source": [
    "# 1.Problemin Çözümünü Buraya Yazınız\n",
    "ogrenciler = {}\n",
    "\n",
    "for i in range(3):\n",
    "    okul_no = input(\"Okul Numarasi: \")\n",
    "    isim = input(\"Isim: \")\n",
    "    soyisim = input(\"Soyisim: \")\n",
    "    telefon = input(\"Telefon Numarasi: \")\n",
    "    dogum_tarihi = input(\"Dogum Tarihi (gg.aa.yyyy): \")\n",
    "    \n",
    "    ogrenci = {\n",
    "        \"Okul Numarası\": okul_no,\n",
    "        \"İsim\": isim,\n",
    "        \"Soyisim\": soyisim,\n",
    "        \"Telefon Numarası\": telefon,\n",
    "        \"Doğum Tarihi\": dogum_tarihi\n",
    "    }\n",
    "    ogrenciler[f\"Öğrenci {i+1}\"] = ogrenci\n",
    "    print()\n",
    "\n",
    "\"\"\"\n",
    "\n",
    "for bilgiler in ogrenciler:\n",
    "    print(f\"Okul Numarasi: {ogrenciler[bilgiler]['okul_no']}\")\n",
    "    print(f\"Isim: {ogrenciler[bilgiler]['isim']}\")\n",
    "    print(f\"Soyisim: {ogrenciler[bilgiler]['soyisim']}\")\n",
    "    print(f\"Telefon Numarasi: {ogrenciler[bilgiler]['telefon']}\")\n",
    "    print(f\"Doğum Tarihi: {ogrenciler[bilgiler]['dogum_tarihi']}\")\n",
    "    \n",
    "print(ogrenciler)\n",
    "\n",
    "bu sekilde liste ile olmuyor\n",
    "\"\"\"\n",
    "\n",
    "#The items() method returns a view object. The view object contains the key-value pairs of the dictionary\n",
    "\n",
    "print(\"Oluşturulan Öğrenci Bilgileri:\")\n",
    "for ogrenci, bilgiler in ogrenciler.items():\n",
    "    print(ogrenci + \":\")\n",
    "    for key, value in bilgiler.items():\n",
    "        print(f\"{key}: {value}\")\n",
    "    print()\n",
    "\n"
   ]
  },
  {
   "cell_type": "markdown",
   "metadata": {},
   "source": [
    "# Problem 2\n",
    "\n",
    "### a - Biraz ısınarak başlayalım!\n",
    "\n",
    "```\n",
    "numbers = [5,10,10,15,15,15,20,20,20,20]\n",
    "```\n",
    "\n",
    "Yukarıda `numbers` adında 10 elemanlı bir liste verilmiştir. Bu listenin her elemanını kontrol eden ve tekrar eden elemanları bir kez olacak şekilde başka bir listeye kopyalayan bir program yazınız. Son olarak oluşturduğunuz listeyi ekrana bastırınız.\n",
    "\n",
    "\n",
    "\n",
    "\n",
    "```\n",
    ">Output\n",
    "[5, 10, 15, 20]\n",
    "```\n"
   ]
  },
  {
   "cell_type": "code",
   "execution_count": 16,
   "metadata": {},
   "outputs": [
    {
     "name": "stdout",
     "output_type": "stream",
     "text": [
      "Tekrarsiz liste:\n",
      "[5, 10, 15, 20]\n"
     ]
    }
   ],
   "source": [
    "# 2.Problemin a Şıkkının Çözümünü Buraya Yazınız\n",
    "numbers = [5, 10, 10, 15, 15, 15, 20, 20, 20, 20]\n",
    "\n",
    "tekrarsiz = []\n",
    "\n",
    "for i in numbers:\n",
    "    if i not in tekrarsiz:\n",
    "        tekrarsiz.append(i)\n",
    "\n",
    "print(\"Tekrarsiz liste:\")\n",
    "print(tekrarsiz)"
   ]
  },
  {
   "cell_type": "markdown",
   "metadata": {},
   "source": [
    "### 🌶️ b) Hadi işi biraz daha zorlaştıralım! \n",
    "\n",
    "\n",
    "Şimdiyse senden `numbers` isimli listedeki tekrar eden elemanları `repeatNumbers` adındaki listeye; tekrar etmeyen elemanları `uniqueNumbers`adındaki listeye kopyalayan yazmanı ve listeleri ekrana bastırmanı bekliyoruz\n",
    "\n",
    "```\n",
    ">Output\n",
    "Tekrar Eden Elemanlar: [10, 10, 15, 15, 15, 20, 20, 20, 20]\n",
    "Tekrar Etmeyen Elemanlar: [5]\n",
    "```"
   ]
  },
  {
   "cell_type": "code",
   "execution_count": 18,
   "metadata": {},
   "outputs": [
    {
     "name": "stdout",
     "output_type": "stream",
     "text": [
      "Tekrarsiz liste: [5, 10, 15, 20]\n",
      "Tekrar eden elemanlar: [10, 15, 15, 20, 20, 20]\n"
     ]
    }
   ],
   "source": [
    "# 2.Problemin b Şıkkının Çözümünü Buraya Yazınız\n",
    "numbers = [5, 10, 10, 15, 15, 15, 20, 20, 20, 20]\n",
    "\n",
    "uniqueNumbers = []\n",
    "repeatNumbers = []\n",
    "\n",
    "for i in numbers:\n",
    "    if i not in uniqueNumbers:\n",
    "        uniqueNumbers.append(i)\n",
    "    else:\n",
    "        repeatNumbers.append(i)\n",
    "\n",
    "\n",
    "print(\"Tekrarsiz liste:\",uniqueNumbers)\n",
    "print(\"Tekrar eden elemanlar:\",repeatNumbers)"
   ]
  },
  {
   "cell_type": "markdown",
   "metadata": {},
   "source": [
    "# Problem 3\n",
    "sn1 = {1,2,3,4,5}\n",
    "\n",
    "sn2 = {4,5,6,7,8}\n",
    "\n",
    " Verilen 2 adet küme için kesişimlerini, farklarını ve birleşimlerini bulunuz. "
   ]
  },
  {
   "cell_type": "code",
   "execution_count": 8,
   "metadata": {},
   "outputs": [
    {
     "name": "stdout",
     "output_type": "stream",
     "text": [
      "{1, 2, 3, 4, 5} ve {4, 5, 6, 7, 8} kümelerinin kesisimi : [4, 5]\n",
      "{1, 2, 3, 4, 5} ve {4, 5, 6, 7, 8} kümelerinin farkı : [1, 2, 3]\n",
      "{1, 2, 3, 4, 5} ve {4, 5, 6, 7, 8} kümelerinin birlesimi : [1, 2, 3, 4, 5, 6, 7, 8]\n"
     ]
    }
   ],
   "source": [
    "# 3.Problemin Çözümünü Buraya Yazınız\n",
    "sn1 = {1,2,3,4,5}\n",
    "\n",
    "sn2 = {4,5,6,7,8}\n",
    "\n",
    "kesisim = []\n",
    "fark = []\n",
    "birlesim = []\n",
    "for i in sn1:\n",
    "    if i in sn2:\n",
    "        kesisim.append(i)\n",
    "for i in sn1:\n",
    "    if not i in sn2:\n",
    "        fark.append(i)\n",
    "for i in sn1:\n",
    "    birlesim.append(i)\n",
    "for i in sn2:\n",
    "    if i not in birlesim:\n",
    "        birlesim.append(i)\n",
    "print(f\"{sn1} ve {sn2} kümelerinin kesisimi : {kesisim}\")\n",
    "print(f\"{sn1} ve {sn2} kümelerinin farkı : {fark}\")\n",
    "print(f\"{sn1} ve {sn2} kümelerinin birlesimi : {birlesim}\")\n",
    "\n",
    "\n"
   ]
  },
  {
   "cell_type": "markdown",
   "metadata": {},
   "source": [
    "# Problem 4\n",
    "\n",
    "Buradaki işlemlerimizin tamamı stringler içindir. Aşağıda verilecek olan metodlar için kendinizin örnek yaratması gerekmektedir. \n",
    "\n",
    "Örneğin `upper` için `string` değişkeni oluştururken` k = \"BAC\"` şeklinde oluşturmayınız. Bunun yerine k değişkenini `k = \"bac`\" şeklinde oluşturmanız `upper` metodundaki değişimi görebilmeniz için daha iyi olacaktır.\n",
    "\n",
    "Bütün metodlardaki değişimin gözle görülür şekilde değişimi beklenmektedir.\n",
    "\n",
    "\n",
    "1- capitalize(), lower(), upper(), swapcase(), title(), replace()\n",
    "\n",
    "2- endswith(), startswith(), find(), index(), count()\n",
    "\n",
    "3- split(), strip(), join(), islower(), isalpha(), isdigit()\n",
    "\n",
    "\n",
    "Yukarıdaki `string` metodlarındaki değişimleri görebildiğimiz bir program yazınız.\n"
   ]
  },
  {
   "cell_type": "code",
   "execution_count": 34,
   "metadata": {},
   "outputs": [
    {
     "name": "stdout",
     "output_type": "stream",
     "text": [
      " abcdefga\n",
      " abcdefga\n",
      " ABCDEFGA\n",
      " ABCDEFGa\n",
      " Abcdefga\n",
      " vbcdefgA\n",
      "False\n",
      "False\n",
      "3\n",
      "4\n",
      "1\n",
      "[' abc', 'efgA']\n",
      "abcdefgA\n",
      "False\n",
      "False\n",
      "False\n"
     ]
    }
   ],
   "source": [
    "# 4.Problemin Çözümünü Buraya Yazınız\n",
    "orneklem = \" abcdefgA\"\n",
    "#1 \n",
    "print(orneklem.capitalize())\n",
    "print(orneklem.lower())\n",
    "print(orneklem.upper())\n",
    "print(orneklem.swapcase()) # The swapcase() method returns a string where all the upper case letters are lower case and vice versa.\n",
    "print(orneklem.title())\n",
    "print(orneklem.replace('a','v')) #replace expected at least 2 arguments\n",
    "#2\n",
    "print(orneklem.endswith('x'))\n",
    "print(orneklem.startswith('y'))\n",
    "print(orneklem.find('c'))\n",
    "print(orneklem.index('d'))\n",
    "print(orneklem.count('a'))\n",
    "#3\n",
    "print(orneklem.split('d'))\n",
    "print(orneklem.strip()) # The strip() method removes any leading, and trailing whitespaces.\n",
    "print(orneklem.islower()) # str.islower() takes no arguments\n",
    "print(orneklem.isalpha()) # The isalpha() method returns True if all the characters are alphabet letters (a-z)\n",
    "print(orneklem.isdigit()) # str.isalpha() takes no arguments\n"
   ]
  }
 ],
 "metadata": {
  "kernelspec": {
   "display_name": "Python 3.10.5 64-bit",
   "language": "python",
   "name": "python3"
  },
  "language_info": {
   "codemirror_mode": {
    "name": "ipython",
    "version": 3
   },
   "file_extension": ".py",
   "mimetype": "text/x-python",
   "name": "python",
   "nbconvert_exporter": "python",
   "pygments_lexer": "ipython3",
   "version": "3.10.0"
  },
  "orig_nbformat": 4,
  "vscode": {
   "interpreter": {
    "hash": "5026d2d6e7aaaaba093def813beadff083d8733e4a511af01735cbabd156995d"
   }
  }
 },
 "nbformat": 4,
 "nbformat_minor": 2
}
